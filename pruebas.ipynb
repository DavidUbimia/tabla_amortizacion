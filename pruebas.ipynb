{
 "cells": [
  {
   "cell_type": "code",
   "execution_count": 6,
   "id": "0783ab87",
   "metadata": {},
   "outputs": [],
   "source": [
    "import streamlit as st\n",
    "import pandas as pd\n",
    "import streamlit as st"
   ]
  },
  {
   "cell_type": "code",
   "execution_count": 7,
   "id": "f7569bec",
   "metadata": {},
   "outputs": [],
   "source": [
    "def calcular_pago_mensual(tasa_anual, monto, num_pagos):\n",
    "    tasa_mensual = tasa_anual / 100 / 12\n",
    "    if tasa_mensual == 0:\n",
    "        return monto / num_pagos\n",
    "    else:\n",
    "        return monto * (tasa_mensual * (1 + tasa_mensual) ** num_pagos) / ((1 + tasa_mensual) ** num_pagos - 1)"
   ]
  },
  {
   "cell_type": "code",
   "execution_count": 2,
   "id": "847923e8",
   "metadata": {},
   "outputs": [],
   "source": [
    "\n",
    "def tabla_amortizacion(pago, tasa, monto, pagos):\n",
    "    tasa_mensual = tasa / 100 / 12\n",
    "    saldo = monto\n",
    "\n",
    "    tabla = []\n",
    "\n",
    "    for mes in range(1, pagos + 1):\n",
    "        interes = saldo * tasa_mensual\n",
    "        abono = pago - interes\n",
    "        saldo = saldo - abono\n",
    "\n",
    "        tabla.append({\n",
    "            \"Mes\": mes,\n",
    "            \"Pago\": round(pago, 2),\n",
    "            \"Interés\": round(interes, 2),\n",
    "            \"Abono a capital\": round(abono, 2),\n",
    "            \"Saldo restante\": round(max(saldo, 0), 2)\n",
    "        })\n",
    "\n",
    "    return pd.DataFrame(tabla)\n"
   ]
  },
  {
   "cell_type": "code",
   "execution_count": 17,
   "id": "ca11a34f",
   "metadata": {},
   "outputs": [],
   "source": [
    "tasa=10.45\n",
    "monto=975000\n",
    "pagos=12*30"
   ]
  },
  {
   "cell_type": "code",
   "execution_count": 18,
   "id": "fdd80889",
   "metadata": {},
   "outputs": [],
   "source": [
    "pago = calcular_pago_mensual(tasa_anual=tasa, monto=monto, num_pagos=pagos)\n",
    "tabla = tabla_amortizacion(pago=pago, tasa=tasa, monto=monto, pagos=pagos)"
   ]
  },
  {
   "cell_type": "code",
   "execution_count": 19,
   "id": "8f719723",
   "metadata": {},
   "outputs": [
    {
     "name": "stdout",
     "output_type": "stream",
     "text": [
      "8882.28155219643\n"
     ]
    }
   ],
   "source": [
    "print(pago)"
   ]
  },
  {
   "cell_type": "code",
   "execution_count": 21,
   "id": "77c6b996",
   "metadata": {},
   "outputs": [
    {
     "name": "stdout",
     "output_type": "stream",
     "text": [
      "     Mes     Pago  Interés  Abono a capital  Saldo restante\n",
      "0      1  8882.28  8490.62           391.66       974608.34\n",
      "1      2  8882.28  8487.21           395.07       974213.28\n",
      "2      3  8882.28  8483.77           398.51       973814.77\n",
      "3      4  8882.28  8480.30           401.98       973412.79\n",
      "4      5  8882.28  8476.80           405.48       973007.31\n",
      "..   ...      ...      ...              ...             ...\n",
      "355  356  8882.28   376.85          8505.43        34768.90\n",
      "356  357  8882.28   302.78          8579.50        26189.39\n",
      "357  358  8882.28   228.07          8654.22        17535.18\n",
      "358  359  8882.28   152.70          8729.58         8805.60\n",
      "359  360  8882.28    76.68          8805.60            0.00\n",
      "\n",
      "[360 rows x 5 columns]\n"
     ]
    }
   ],
   "source": [
    "print(tabla)"
   ]
  }
 ],
 "metadata": {
  "kernelspec": {
   "display_name": "Python 3",
   "language": "python",
   "name": "python3"
  },
  "language_info": {
   "codemirror_mode": {
    "name": "ipython",
    "version": 3
   },
   "file_extension": ".py",
   "mimetype": "text/x-python",
   "name": "python",
   "nbconvert_exporter": "python",
   "pygments_lexer": "ipython3",
   "version": "3.11.9"
  }
 },
 "nbformat": 4,
 "nbformat_minor": 5
}
